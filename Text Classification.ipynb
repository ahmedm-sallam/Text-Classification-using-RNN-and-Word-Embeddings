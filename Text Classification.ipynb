{
 "cells": [
  {
   "cell_type": "markdown",
   "metadata": {},
   "source": [
    "# Sentiment Analysis using RNN and LSTM\n",
    "\n",
    "This guide provides steps to perform sentiment analysis using Recurrent Neural Network (RNN) and Long Short-Term Memory (LSTM) models. We will preprocess the data, create and train the models, and build a simple GUI for sentiment prediction.\n"
   ]
  },
  {
   "cell_type": "code",
   "execution_count": 51,
   "metadata": {},
   "outputs": [
    {
     "data": {
      "text/plain": [
       "<Figure size 1000x500 with 0 Axes>"
      ]
     },
     "metadata": {},
     "output_type": "display_data"
    }
   ],
   "source": [
    "import re\n",
    "import pandas as pd\n",
    "import numpy as np\n",
    "import matplotlib.pyplot as plt\n",
    "plt.figure(figsize=(10, 5))\n",
    "import seaborn as sns\n",
    "from sklearn.model_selection import train_test_split\n",
    "import nltk\n",
    "from nltk.corpus import stopwords\n",
    "from nltk.tokenize import word_tokenize\n",
    "from collections import Counter\n",
    "import torch\n",
    "import torch.nn as nn\n",
    "import torch.optim as optim\n",
    "from torch.utils.data import DataLoader, Dataset,TensorDataset\n",
    "from nltk.stem import WordNetLemmatizer\n",
    "from tensorflow.keras.preprocessing.text import Tokenizer\n",
    "from tensorflow.keras.preprocessing.sequence import pad_sequences"
   ]
  },
  {
   "cell_type": "markdown",
   "metadata": {},
   "source": [
    "# Setup Device to Use GPU"
   ]
  },
  {
   "cell_type": "code",
   "execution_count": 52,
   "metadata": {},
   "outputs": [
    {
     "name": "stdout",
     "output_type": "stream",
     "text": [
      "Using device: cuda\n"
     ]
    }
   ],
   "source": [
    "device = torch.device(\"cuda\" if torch.cuda.is_available() else \"cpu\")\n",
    "print(f'Using device: {device}')"
   ]
  },
  {
   "cell_type": "code",
   "execution_count": 53,
   "metadata": {},
   "outputs": [
    {
     "data": {
      "text/html": [
       "<div>\n",
       "<style scoped>\n",
       "    .dataframe tbody tr th:only-of-type {\n",
       "        vertical-align: middle;\n",
       "    }\n",
       "\n",
       "    .dataframe tbody tr th {\n",
       "        vertical-align: top;\n",
       "    }\n",
       "\n",
       "    .dataframe thead th {\n",
       "        text-align: right;\n",
       "    }\n",
       "</style>\n",
       "<table border=\"1\" class=\"dataframe\">\n",
       "  <thead>\n",
       "    <tr style=\"text-align: right;\">\n",
       "      <th></th>\n",
       "      <th>sentiments</th>\n",
       "      <th>cleaned_review</th>\n",
       "      <th>cleaned_review_length</th>\n",
       "      <th>review_score</th>\n",
       "    </tr>\n",
       "  </thead>\n",
       "  <tbody>\n",
       "    <tr>\n",
       "      <th>0</th>\n",
       "      <td>positive</td>\n",
       "      <td>i wish would have gotten one earlier love it a...</td>\n",
       "      <td>19</td>\n",
       "      <td>5.0</td>\n",
       "    </tr>\n",
       "    <tr>\n",
       "      <th>1</th>\n",
       "      <td>neutral</td>\n",
       "      <td>i ve learned this lesson again open the packag...</td>\n",
       "      <td>88</td>\n",
       "      <td>1.0</td>\n",
       "    </tr>\n",
       "    <tr>\n",
       "      <th>2</th>\n",
       "      <td>neutral</td>\n",
       "      <td>it is so slow and lags find better option</td>\n",
       "      <td>9</td>\n",
       "      <td>2.0</td>\n",
       "    </tr>\n",
       "    <tr>\n",
       "      <th>3</th>\n",
       "      <td>neutral</td>\n",
       "      <td>roller ball stopped working within months of m...</td>\n",
       "      <td>12</td>\n",
       "      <td>1.0</td>\n",
       "    </tr>\n",
       "    <tr>\n",
       "      <th>4</th>\n",
       "      <td>neutral</td>\n",
       "      <td>i like the color and size but it few days out ...</td>\n",
       "      <td>21</td>\n",
       "      <td>1.0</td>\n",
       "    </tr>\n",
       "    <tr>\n",
       "      <th>5</th>\n",
       "      <td>positive</td>\n",
       "      <td>overall love this mouse the size weight clicki...</td>\n",
       "      <td>68</td>\n",
       "      <td>3.0</td>\n",
       "    </tr>\n",
       "    <tr>\n",
       "      <th>6</th>\n",
       "      <td>neutral</td>\n",
       "      <td>it stopped working</td>\n",
       "      <td>3</td>\n",
       "      <td>1.0</td>\n",
       "    </tr>\n",
       "    <tr>\n",
       "      <th>7</th>\n",
       "      <td>positive</td>\n",
       "      <td>my son uses school issued chromebook for schoo...</td>\n",
       "      <td>170</td>\n",
       "      <td>1.0</td>\n",
       "    </tr>\n",
       "    <tr>\n",
       "      <th>8</th>\n",
       "      <td>negative</td>\n",
       "      <td>loved this cute little mouse but it broke afte...</td>\n",
       "      <td>17</td>\n",
       "      <td>1.0</td>\n",
       "    </tr>\n",
       "    <tr>\n",
       "      <th>9</th>\n",
       "      <td>negative</td>\n",
       "      <td>should ve spent the money to get quality produ...</td>\n",
       "      <td>17</td>\n",
       "      <td>1.0</td>\n",
       "    </tr>\n",
       "  </tbody>\n",
       "</table>\n",
       "</div>"
      ],
      "text/plain": [
       "  sentiments                                     cleaned_review  \\\n",
       "0   positive  i wish would have gotten one earlier love it a...   \n",
       "1    neutral  i ve learned this lesson again open the packag...   \n",
       "2    neutral          it is so slow and lags find better option   \n",
       "3    neutral  roller ball stopped working within months of m...   \n",
       "4    neutral  i like the color and size but it few days out ...   \n",
       "5   positive  overall love this mouse the size weight clicki...   \n",
       "6    neutral                                 it stopped working   \n",
       "7   positive  my son uses school issued chromebook for schoo...   \n",
       "8   negative  loved this cute little mouse but it broke afte...   \n",
       "9   negative  should ve spent the money to get quality produ...   \n",
       "\n",
       "   cleaned_review_length  review_score  \n",
       "0                     19           5.0  \n",
       "1                     88           1.0  \n",
       "2                      9           2.0  \n",
       "3                     12           1.0  \n",
       "4                     21           1.0  \n",
       "5                     68           3.0  \n",
       "6                      3           1.0  \n",
       "7                    170           1.0  \n",
       "8                     17           1.0  \n",
       "9                     17           1.0  "
      ]
     },
     "execution_count": 53,
     "metadata": {},
     "output_type": "execute_result"
    }
   ],
   "source": [
    "df = pd.read_csv('Data/amazon_reviews.csv')\n",
    "df.head(10)"
   ]
  },
  {
   "cell_type": "code",
   "execution_count": 54,
   "metadata": {},
   "outputs": [
    {
     "name": "stdout",
     "output_type": "stream",
     "text": [
      "sentiments               0\n",
      "cleaned_review           3\n",
      "cleaned_review_length    0\n",
      "review_score             0\n",
      "dtype: int64\n"
     ]
    }
   ],
   "source": [
    "print(df.isna().sum())"
   ]
  },
  {
   "cell_type": "code",
   "execution_count": 55,
   "metadata": {},
   "outputs": [],
   "source": [
    "df=df.dropna()"
   ]
  },
  {
   "cell_type": "code",
   "execution_count": 56,
   "metadata": {},
   "outputs": [
    {
     "name": "stdout",
     "output_type": "stream",
     "text": [
      "sentiments               0\n",
      "cleaned_review           0\n",
      "cleaned_review_length    0\n",
      "review_score             0\n",
      "dtype: int64\n"
     ]
    }
   ],
   "source": [
    "print(df.isna().sum())"
   ]
  },
  {
   "cell_type": "markdown",
   "metadata": {},
   "source": [
    "# Text Preprocessing"
   ]
  },
  {
   "cell_type": "code",
   "execution_count": 57,
   "metadata": {},
   "outputs": [],
   "source": [
    "def text_preprocessing(text):\n",
    "    text = re.sub(r'[^a-zA-Z\\s]', '', text)  \n",
    "    tokens = word_tokenize(text.lower())  \n",
    "    stop_words = set(stopwords.words('english'))\n",
    "    tokens = [token for token in tokens if token not in stop_words]  \n",
    "    lemmatizer = WordNetLemmatizer()\n",
    "    tokens = [lemmatizer.lemmatize(token) for token in tokens]\n",
    "    return ' '.join(tokens)"
   ]
  },
  {
   "cell_type": "code",
   "execution_count": 58,
   "metadata": {},
   "outputs": [],
   "source": [
    "df.loc[:, 'cleaned_review'] = df['cleaned_review'].apply(text_preprocessing)"
   ]
  },
  {
   "cell_type": "code",
   "execution_count": 59,
   "metadata": {},
   "outputs": [
    {
     "data": {
      "text/plain": [
       "0        wish would gotten one earlier love make workin...\n",
       "1        learned lesson open package use product right ...\n",
       "2                              slow lag find better option\n",
       "3        roller ball stopped working within month minim...\n",
       "4            like color size day return period hold charge\n",
       "                               ...                        \n",
       "17335    love speaker love take anywhere charge phone w...\n",
       "17336              use house easy connect loud clear music\n",
       "17337    bass good battery amazing much better charge t...\n",
       "17338                                                 love\n",
       "17339                                         mono speaker\n",
       "Name: cleaned_review, Length: 17337, dtype: object"
      ]
     },
     "execution_count": 59,
     "metadata": {},
     "output_type": "execute_result"
    }
   ],
   "source": [
    "df['cleaned_review']"
   ]
  },
  {
   "cell_type": "markdown",
   "metadata": {},
   "source": [
    "# Tokenization and Padding"
   ]
  },
  {
   "cell_type": "code",
   "execution_count": 60,
   "metadata": {},
   "outputs": [],
   "source": [
    "tokenizer = Tokenizer()\n",
    "tokenizer.fit_on_texts(df['cleaned_review'])\n",
    "sequences = tokenizer.texts_to_sequences(df['cleaned_review'])"
   ]
  },
  {
   "cell_type": "code",
   "execution_count": 61,
   "metadata": {},
   "outputs": [],
   "source": [
    "max_len = max(len(seq) for seq in sequences)\n",
    "padded_sequences = pad_sequences(sequences, maxlen=max_len)\n",
    "labels = pd.get_dummies(df['sentiments']).values"
   ]
  },
  {
   "cell_type": "markdown",
   "metadata": {},
   "source": [
    "# Train-Validation Split"
   ]
  },
  {
   "cell_type": "code",
   "execution_count": 62,
   "metadata": {},
   "outputs": [],
   "source": [
    "X_train, X_val, y_train, y_val = train_test_split(padded_sequences, labels, test_size=0.2, random_state=42)"
   ]
  },
  {
   "cell_type": "code",
   "execution_count": 63,
   "metadata": {},
   "outputs": [],
   "source": [
    "train_data = TensorDataset(torch.from_numpy(X_train).long(), torch.from_numpy(y_train).float())\n",
    "val_data = TensorDataset(torch.from_numpy(X_val).long(), torch.from_numpy(y_val).float())\n",
    "train_loader = DataLoader(train_data, shuffle=True, batch_size=50)\n",
    "val_loader = DataLoader(val_data, shuffle=True, batch_size=50)"
   ]
  },
  {
   "cell_type": "markdown",
   "metadata": {},
   "source": [
    "# Define RNN and LSTM Models"
   ]
  },
  {
   "cell_type": "code",
   "execution_count": 64,
   "metadata": {},
   "outputs": [],
   "source": [
    "class RNN(nn.Module):\n",
    "    def __init__(self, output_size, embedding_dim, hidden_dim, n_layers, drop_prob=0.5):\n",
    "        super(RNN, self).__init__()\n",
    "        self.output_size = output_size\n",
    "        self.n_layers = n_layers\n",
    "        self.hidden_dim = hidden_dim\n",
    "        \n",
    "        self.embedding = nn.Embedding(len(tokenizer.word_index)+1, embedding_dim)\n",
    "        self.rnn = nn.RNN(embedding_dim, hidden_dim, n_layers, dropout=drop_prob, batch_first=True)\n",
    "        self.dropout = nn.Dropout(0.5)\n",
    "        self.fc = nn.Linear(hidden_dim, output_size)\n",
    "        \n",
    "    def forward(self, x):\n",
    "        embedded = self.embedding(x)\n",
    "        out, hidden = self.rnn(embedded)\n",
    "        out = self.dropout(out)\n",
    "        out = self.fc(out[:, -1])\n",
    "        return out"
   ]
  },
  {
   "cell_type": "code",
   "execution_count": 65,
   "metadata": {},
   "outputs": [],
   "source": [
    "class LSTM(nn.Module):\n",
    "    def __init__(self, vocab_size, embedding_dim, hidden_dim, output_size, n_layers, drop_prob=0.5):\n",
    "        super(LSTM, self).__init__()\n",
    "        self.output_size = output_size\n",
    "        self.n_layers = n_layers\n",
    "        self.hidden_dim = hidden_dim\n",
    "        \n",
    "        self.embedding = nn.Embedding(vocab_size, embedding_dim)\n",
    "        self.lstm = nn.LSTM(embedding_dim, hidden_dim, n_layers, dropout=drop_prob, batch_first=True)\n",
    "        self.dropout = nn.Dropout(drop_prob)\n",
    "        self.fc = nn.Linear(hidden_dim, output_size)\n",
    "\n",
    "    def forward(self, x):\n",
    "        embedded = self.embedding(x)\n",
    "        lstm_out, (hidden, cell) = self.lstm(embedded)\n",
    "        lstm_out = self.dropout(lstm_out[:, -1])\n",
    "        out = self.fc(lstm_out)\n",
    "        return out\n"
   ]
  },
  {
   "cell_type": "markdown",
   "metadata": {},
   "source": [
    "# Define Accuracy Function"
   ]
  },
  {
   "cell_type": "code",
   "execution_count": 66,
   "metadata": {},
   "outputs": [],
   "source": [
    "def accuracy(outputs, labels):\n",
    "    _, preds = torch.max(outputs, dim=1)\n",
    "    return torch.tensor(torch.sum(preds == labels).item() / len(preds))"
   ]
  },
  {
   "cell_type": "markdown",
   "metadata": {},
   "source": [
    "# Initialize Models"
   ]
  },
  {
   "cell_type": "code",
   "execution_count": 67,
   "metadata": {},
   "outputs": [],
   "source": [
    "# Initialize models\n",
    "epochs = 20\n",
    "output_size = 3\n",
    "embedding_dim = 400\n",
    "hidden_dim = 256\n",
    "n_layers = 2\n",
    "vocab_size = len(tokenizer.word_index) + 1\n",
    "\n",
    "rnn_model = RNN(output_size, embedding_dim, hidden_dim, n_layers).to(device)\n",
    "lstm_model = LSTM(vocab_size, embedding_dim, hidden_dim, output_size, n_layers).to(device)"
   ]
  },
  {
   "cell_type": "code",
   "execution_count": 68,
   "metadata": {},
   "outputs": [],
   "source": [
    "def print_model_summary(model, model_name):\n",
    "    print(f\"Model Summary for {model_name}\")\n",
    "    print(model)\n",
    "    print(\"\\n\")"
   ]
  },
  {
   "cell_type": "code",
   "execution_count": 69,
   "metadata": {},
   "outputs": [
    {
     "name": "stdout",
     "output_type": "stream",
     "text": [
      "Model Summary for RNN\n",
      "RNN(\n",
      "  (embedding): Embedding(8504, 400)\n",
      "  (rnn): RNN(400, 256, num_layers=2, batch_first=True, dropout=0.5)\n",
      "  (dropout): Dropout(p=0.5, inplace=False)\n",
      "  (fc): Linear(in_features=256, out_features=3, bias=True)\n",
      ")\n",
      "\n",
      "\n"
     ]
    }
   ],
   "source": [
    "print_model_summary(rnn_model, \"RNN\")"
   ]
  },
  {
   "cell_type": "code",
   "execution_count": 70,
   "metadata": {},
   "outputs": [
    {
     "name": "stdout",
     "output_type": "stream",
     "text": [
      "Model Summary for LSTM\n",
      "LSTM(\n",
      "  (embedding): Embedding(8504, 400)\n",
      "  (lstm): LSTM(400, 256, num_layers=2, batch_first=True, dropout=0.5)\n",
      "  (dropout): Dropout(p=0.5, inplace=False)\n",
      "  (fc): Linear(in_features=256, out_features=3, bias=True)\n",
      ")\n",
      "\n",
      "\n"
     ]
    }
   ],
   "source": [
    "print_model_summary(lstm_model, \"LSTM\")"
   ]
  },
  {
   "cell_type": "markdown",
   "metadata": {},
   "source": [
    "# Define Optimizers and Loss Function"
   ]
  },
  {
   "cell_type": "code",
   "execution_count": 71,
   "metadata": {},
   "outputs": [],
   "source": [
    "rnn_optimizer = optim.Adam(rnn_model.parameters(), lr=0.001)\n",
    "lstm_optimizer = optim.Adam(lstm_model.parameters(), lr=0.001)\n",
    "\n",
    "# Loss function\n",
    "criterion = nn.CrossEntropyLoss()"
   ]
  },
  {
   "cell_type": "markdown",
   "metadata": {},
   "source": [
    "# Training and Validation Function"
   ]
  },
  {
   "cell_type": "code",
   "execution_count": 72,
   "metadata": {},
   "outputs": [],
   "source": [
    "def train_and_validate(model, optimizer, criterion, train_loader, val_loader, epochs, device):\n",
    "    train_losses, val_losses, val_accs = [], [], []\n",
    "\n",
    "    for epoch in range(epochs):\n",
    "        # Training mode\n",
    "        model.train()\n",
    "        total_train_loss = 0\n",
    "        for inputs, labels in train_loader:\n",
    "            inputs, labels = inputs.to(device), labels.to(device)\n",
    "            optimizer.zero_grad()\n",
    "            output = model(inputs)\n",
    "            loss = criterion(output, torch.max(labels, 1)[1])\n",
    "            loss.backward()\n",
    "            optimizer.step()\n",
    "            total_train_loss += loss.item()\n",
    "\n",
    "        # Validation mode\n",
    "        model.eval()\n",
    "        total_val_loss, total_acc = 0, 0\n",
    "        with torch.no_grad():\n",
    "            for inputs, labels in val_loader:\n",
    "                inputs, labels = inputs.to(device), labels.to(device)\n",
    "                output = model(inputs)\n",
    "                val_loss = criterion(output, torch.max(labels, 1)[1])\n",
    "                total_val_loss += val_loss.item()\n",
    "                acc = accuracy(output, torch.max(labels, 1)[1])\n",
    "                total_acc += acc.item()\n",
    "\n",
    "        avg_train_loss = total_train_loss / len(train_loader)\n",
    "        avg_val_loss = total_val_loss / len(val_loader)\n",
    "        avg_acc = total_acc / len(val_loader)\n",
    "\n",
    "        train_losses.append(avg_train_loss)\n",
    "        val_losses.append(avg_val_loss)\n",
    "        val_accs.append(avg_acc)\n",
    "\n",
    "        print(f'Epoch: {epoch+1}/{epochs}, Train Loss: {avg_train_loss}, Val Loss: {avg_val_loss}, Val Acc: {avg_acc}')\n",
    "\n",
    "    return train_losses, val_losses, val_accs\n"
   ]
  },
  {
   "cell_type": "markdown",
   "metadata": {},
   "source": [
    "# Plotting Losses"
   ]
  },
  {
   "cell_type": "code",
   "execution_count": 73,
   "metadata": {},
   "outputs": [],
   "source": [
    "def plot_losses(Model_name, train_losses, val_losses, epochs):\n",
    "    plt.plot(range(1, epochs + 1), train_losses, label='Training Loss')\n",
    "    plt.plot(range(1, epochs + 1), val_losses, label='Validation Loss')\n",
    "    plt.title(f'Training and Validation Losses for {Model_name}')\n",
    "    plt.xlabel('Epochs')\n",
    "    plt.ylabel('Loss')\n",
    "    plt.legend()\n",
    "    plt.show()"
   ]
  },
  {
   "cell_type": "markdown",
   "metadata": {},
   "source": [
    "# Train Models"
   ]
  },
  {
   "cell_type": "code",
   "execution_count": 74,
   "metadata": {},
   "outputs": [
    {
     "name": "stdout",
     "output_type": "stream",
     "text": [
      "RNN Start Trianing: \n",
      "\n",
      "Epoch: 1/20, Train Loss: 0.6733771647266347, Val Loss: 0.5766988226345607, Val Acc: 0.7784761880125318\n",
      "Epoch: 2/20, Train Loss: 0.5405669112642892, Val Loss: 0.5487012533204896, Val Acc: 0.796984122480665\n",
      "Epoch: 3/20, Train Loss: 0.4409314038084565, Val Loss: 0.5354829343301909, Val Acc: 0.8047618985176086\n",
      "Epoch: 4/20, Train Loss: 0.3957996865292247, Val Loss: 0.4827375741941588, Val Acc: 0.8347618997097015\n",
      "Epoch: 5/20, Train Loss: 0.30818739198416256, Val Loss: 0.5048614059175763, Val Acc: 0.8152698346546718\n",
      "Epoch: 6/20, Train Loss: 0.4052990827200224, Val Loss: 0.5694523436682565, Val Acc: 0.8106031715869904\n",
      "Epoch: 7/20, Train Loss: 0.267802267489459, Val Loss: 0.5524209718619074, Val Acc: 0.8379682489803859\n",
      "Epoch: 8/20, Train Loss: 0.18952311184123266, Val Loss: 0.5580783158540725, Val Acc: 0.8408253908157348\n",
      "Epoch: 9/20, Train Loss: 0.14685032767974002, Val Loss: 0.5599149742296764, Val Acc: 0.8524126955441066\n",
      "Epoch: 10/20, Train Loss: 0.10061824834811763, Val Loss: 0.6196725852787495, Val Acc: 0.8569206254822868\n",
      "Epoch: 11/20, Train Loss: 0.10343461750718437, Val Loss: 0.6653678159628595, Val Acc: 0.8435555517673492\n",
      "Epoch: 12/20, Train Loss: 0.10913449993169458, Val Loss: 0.6654862923281534, Val Acc: 0.8476190422262464\n",
      "Epoch: 13/20, Train Loss: 0.08013023472669126, Val Loss: 0.6948332462991987, Val Acc: 0.8533333284514291\n",
      "Epoch: 14/20, Train Loss: 0.0757225250001166, Val Loss: 0.7021891610963004, Val Acc: 0.8469841199261802\n",
      "Epoch: 15/20, Train Loss: 0.09142352028066467, Val Loss: 0.6617157828594957, Val Acc: 0.8569206297397614\n",
      "Epoch: 16/20, Train Loss: 0.06498449050533257, Val Loss: 0.7025666070835931, Val Acc: 0.8591111012867518\n",
      "Epoch: 17/20, Train Loss: 0.04614314454667967, Val Loss: 0.7955803049462182, Val Acc: 0.8579047577721732\n",
      "Epoch: 18/20, Train Loss: 0.054958432005373294, Val Loss: 0.7110935568809509, Val Acc: 0.8626031688281468\n",
      "Epoch: 19/20, Train Loss: 0.07594401838522566, Val Loss: 0.6959306099585124, Val Acc: 0.8562539611543928\n",
      "Epoch: 20/20, Train Loss: 0.05974069387122667, Val Loss: 0.7657297304698399, Val Acc: 0.8608253938811166\n"
     ]
    },
    {
     "data": {
      "image/png": "[encoded data removed]",
      "text/plain": [
       "<Figure size 640x480 with 1 Axes>"
      ]
     },
     "metadata": {},
     "output_type": "display_data"
    }
   ],
   "source": [
    "print(\"RNN Start Trianing: \\n\")\n",
    "rnn_train_losses, rnn_val_losses, rnn_val_accs = train_and_validate(rnn_model, rnn_optimizer, criterion, train_loader, val_loader, epochs, device)\n",
    "plot_losses(\"RNN\",rnn_train_losses, rnn_val_losses, epochs)"
   ]
  },
  {
   "cell_type": "code",
   "execution_count": 75,
   "metadata": {},
   "outputs": [
    {
     "name": "stdout",
     "output_type": "stream",
     "text": [
      "LSTM Start Trianing: \n",
      "\n",
      "Epoch: 1/20, Train Loss: 0.5736499346203083, Val Loss: 0.48776935786008835, Val Acc: 0.7975555496556418\n",
      "Epoch: 2/20, Train Loss: 0.3642682934836518, Val Loss: 0.3994736352137157, Val Acc: 0.8521269755704063\n",
      "Epoch: 3/20, Train Loss: 0.22987272207819515, Val Loss: 0.42602635749748774, Val Acc: 0.8588253906794957\n",
      "Epoch: 4/20, Train Loss: 0.14262563236084558, Val Loss: 0.42624334629092897, Val Acc: 0.8688253905091967\n",
      "Epoch: 5/20, Train Loss: 0.0858981940851768, Val Loss: 0.46645027776913983, Val Acc: 0.8741269809859139\n",
      "Epoch: 6/20, Train Loss: 0.05259632569965538, Val Loss: 0.5244382305869034, Val Acc: 0.8866984069347381\n",
      "Epoch: 7/20, Train Loss: 0.050182009761543314, Val Loss: 0.5505809223545449, Val Acc: 0.8872063457965851\n",
      "Epoch: 8/20, Train Loss: 0.03631711365900458, Val Loss: 0.6103923194110393, Val Acc: 0.8879047547067914\n",
      "Epoch: 9/20, Train Loss: 0.03382508220526276, Val Loss: 0.6293101900922401, Val Acc: 0.886285708631788\n",
      "Epoch: 10/20, Train Loss: 0.025520628654873735, Val Loss: 0.6053974868995803, Val Acc: 0.888190473828997\n",
      "Epoch: 11/20, Train Loss: 0.01542803870301305, Val Loss: 0.6426954437579427, Val Acc: 0.8918412685394287\n",
      "Epoch: 12/20, Train Loss: 0.025446414394955746, Val Loss: 0.6660943085926452, Val Acc: 0.8897142827510833\n",
      "Epoch: 13/20, Train Loss: 0.019988056378214613, Val Loss: 0.7640376781778676, Val Acc: 0.8821587238992964\n",
      "Epoch: 14/20, Train Loss: 0.019763936513738384, Val Loss: 0.6905237854591437, Val Acc: 0.8852063434464591\n",
      "Epoch: 15/20, Train Loss: 0.016381781597413617, Val Loss: 0.726339397260121, Val Acc: 0.8818412644522531\n",
      "Epoch: 16/20, Train Loss: 0.019814400619822186, Val Loss: 0.6729996029819761, Val Acc: 0.8833333270890372\n",
      "Epoch: 17/20, Train Loss: 0.014128112767152187, Val Loss: 0.7758922259722437, Val Acc: 0.886476184640612\n",
      "Epoch: 18/20, Train Loss: 0.01594696872984478, Val Loss: 0.7838077617543084, Val Acc: 0.8884126927171435\n",
      "Epoch: 19/20, Train Loss: 0.010229817353359217, Val Loss: 0.7892670578190258, Val Acc: 0.8892063464437212\n",
      "Epoch: 20/20, Train Loss: 0.011733573063734412, Val Loss: 0.7122717099530357, Val Acc: 0.8872380920818874\n"
     ]
    },
    {
     "data": {
      "image/png": "[encoded data removed]",
      "text/plain": [
       "<Figure size 640x480 with 1 Axes>"
      ]
     },
     "metadata": {},
     "output_type": "display_data"
    }
   ],
   "source": [
    "print(\"LSTM Start Trianing: \\n\")\n",
    "lstm_train_losses, lstm_val_losses, lstm_val_accs = train_and_validate(lstm_model, lstm_optimizer, criterion, train_loader, val_loader, epochs, device)\n",
    "plot_losses(\"LSTM\",lstm_train_losses, lstm_val_losses, epochs)"
   ]
  },
  {
   "cell_type": "markdown",
   "metadata": {},
   "source": [
    "# Build GUI for Sentiment Prediction"
   ]
  },
  {
   "cell_type": "code",
   "execution_count": 76,
   "metadata": {},
   "outputs": [],
   "source": [
    "import tkinter as tk\n",
    "from tkinter import simpledialog, messagebox\n",
    "\n",
    "def predict_sentiment(model, review, tokenizer, max_len, device):\n",
    "    review_cleaned = text_preprocessing(review)\n",
    "    sequence = tokenizer.texts_to_sequences([review_cleaned])\n",
    "    padded_sequence = pad_sequences(sequence, maxlen=max_len)\n",
    "    input_tensor = torch.from_numpy(padded_sequence).long().to(device)\n",
    "    model.eval()\n",
    "    with torch.no_grad():\n",
    "        prediction = model(input_tensor)\n",
    "        predicted_index = torch.argmax(prediction, dim=1).item()\n",
    "    sentiment_map = {0: 'Negative', 1: 'Neutral', 2: 'Positive'}\n",
    "    return sentiment_map[predicted_index]\n",
    "\n",
    "def on_predict():\n",
    "    review = text_entry.get(\"1.0\", \"end-1c\")\n",
    "    if review.strip() == \"\":\n",
    "        messagebox.showinfo(\"Prediction\", \"Please enter a review for prediction.\")\n",
    "    else:\n",
    "        selected_model = model_var.get()\n",
    "        if selected_model == 'RNN':\n",
    "            model_to_use = rnn_model\n",
    "        elif selected_model == 'LSTM':\n",
    "            model_to_use = lstm_model\n",
    "        predicted_sentiment = predict_sentiment(model_to_use, review, tokenizer, max_len, device)\n",
    "        messagebox.showinfo(\"Prediction\", f\"The predicted sentiment of the review is: {predicted_sentiment}\")\n",
    "root = tk.Tk()\n",
    "root.title(\"Sentiment Analysis of Reviews\")\n",
    "text_entry = tk.Text(root, height=10, width=50)\n",
    "text_entry.pack(padx=10, pady=10)\n",
    "model_var = tk.StringVar(value='LSTM') \n",
    "rnn_button = tk.Radiobutton(root, text=\"RNN\", variable=model_var, value='RNN')\n",
    "lstm_button = tk.Radiobutton(root, text=\"LSTM\", variable=model_var, value='LSTM')\n",
    "rnn_button.pack()\n",
    "lstm_button.pack()\n",
    "predict_button = tk.Button(root, text=\"Predict Sentiment\", command=on_predict)\n",
    "predict_button.pack(pady=10)\n",
    "root.mainloop()"
   ]
  }
 ],
 "metadata": {
  "kernelspec": {
   "display_name": "base",
   "language": "python",
   "name": "python3"
  },
  "language_info": {
   "codemirror_mode": {
    "name": "ipython",
    "version": 3
   },
   "file_extension": ".py",
   "mimetype": "text/x-python",
   "name": "python",
   "nbconvert_exporter": "python",
   "pygments_lexer": "ipython3",
   "version": "3.11.7"
  }
 },
 "nbformat": 4,
 "nbformat_minor": 2
}
